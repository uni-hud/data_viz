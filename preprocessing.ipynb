{
 "cells": [
  {
   "cell_type": "code",
   "execution_count": 1,
   "id": "18dbcca7-11e2-4f77-b4a7-9bcdf8a8144a",
   "metadata": {},
   "outputs": [
    {
     "name": "stderr",
     "output_type": "stream",
     "text": [
      "C:\\Users\\amnaj\\AppData\\Local\\Temp\\ipykernel_1700\\4080736814.py:1: DeprecationWarning: \n",
      "Pyarrow will become a required dependency of pandas in the next major release of pandas (pandas 3.0),\n",
      "(to allow more performant data types, such as the Arrow string type, and better interoperability with other libraries)\n",
      "but was not found to be installed on your system.\n",
      "If this would cause problems for you,\n",
      "please provide us feedback at https://github.com/pandas-dev/pandas/issues/54466\n",
      "        \n",
      "  import pandas as pd\n"
     ]
    }
   ],
   "source": [
    "import pandas as pd"
   ]
  },
  {
   "cell_type": "code",
   "execution_count": 2,
   "id": "503aac7b-698f-44fe-a998-f7c6cffe818f",
   "metadata": {},
   "outputs": [],
   "source": [
    "accident = pd.read_csv(r'C:\\Users\\amnaj\\Downloads\\archive (1)\\Accident_Information.csv', low_memory=False, chunksize=30000)\n",
    "vehicle = pd.read_csv(r'C:\\Users\\amnaj\\Downloads\\archive (1)\\Vehicle_Information.csv', low_memory=False, chunksize=30000,encoding='latin-1')"
   ]
  },
  {
   "cell_type": "code",
   "execution_count": 3,
   "id": "3a78d942-cc66-4ee1-88f9-8d05da146057",
   "metadata": {},
   "outputs": [],
   "source": [
    "#chunk cleaning and dataframing for accident file\n",
    "accident_chunk = []\n",
    "for chunk in accident:\n",
    "    accident_chunk_filter = chunk[\n",
    "        (chunk.Year.astype(int) >= 2010) &\n",
    "        (chunk.Year.astype(int) <= 2017) &\n",
    "        (chunk['Road_Type'] != \"Unknown\") &\n",
    "        (chunk['Junction_Control'] != \"Data missing or out of range\") &\n",
    "        (chunk['Carriageway_Hazards'] != \"Data missing or out of range\") &\n",
    "        (chunk['Junction_Detail'] != \"Data missing or out of range\") &\n",
    "        (chunk['Road_Surface_Conditions'] != \"Data missing or out of range\") &\n",
    "        (chunk['Special_Conditions_at_Site'] != \"Data missing or out of range\") &\n",
    "        (chunk['Weather_Conditions'] != \"Data missing or out of range\") &\n",
    "        (chunk['Latitude'].notnull()) &\n",
    "        (chunk['Longitude'].notnull())\n",
    "    ]\n",
    "    accident_chunk.append(accident_chunk_filter)\n",
    "df1 = pd.concat(accident_chunk)"
   ]
  },
  {
   "cell_type": "code",
   "execution_count": 4,
   "id": "208a8572-e6ff-4d26-8e04-6aab04ebafcd",
   "metadata": {},
   "outputs": [],
   "source": [
    "#chunk cleaning for vehicles column\n",
    "vehicle_chunk = []\n",
    "for chunk2 in vehicle:\n",
    "    vehicle_chunk_filter = chunk2[\n",
    "        (chunk2.Year.astype(int) >= 2010)&\n",
    "        (chunk2.Year.astype(int) <= 2017) &\n",
    "        (chunk2['Driver_Home_Area_Type'] != \"Data missing or out of range\") &\n",
    "        (chunk2['Journey_Purpose_of_Driver'] != \"Data missing or out of range\") &\n",
    "        (chunk2['Junction_Location'] != \"Data missing or out of range\") &\n",
    "        (chunk2['Was_Vehicle_Left_Hand_Drive'] != \"Data missing or out of range\") &\n",
    "        (chunk2['Hit_Object_in_Carriageway'] != \"Data missing or out of range\") &\n",
    "        (chunk2['Skidding_and_Overturning'] != \"Data missing or out of range\") &\n",
    "        (chunk2['Towing_and_Articulation'] != \"Data missing or out of range\") &\n",
    "        (chunk2['Vehicle_Leaving_Carriageway'] != \"Data missing or out of range\") &\n",
    "        (chunk2['Vehicle_Manoeuvre'] != \"Data missing or out of range\") &\n",
    "        (chunk2['Vehicle_Type'] != \"Data missing or out of range\") &\n",
    "        (chunk2['X1st_Point_of_Impact'] != \"Data missing or out of range\") &\n",
    "        (chunk2['Sex_of_Driver'] != \"Data missing or out of range\") &\n",
    "        (chunk2['Age_Band_of_Driver'] != \"Data missing or out of range\")\n",
    "        \n",
    "    ]\n",
    "    vehicle_chunk.append(vehicle_chunk_filter)\n",
    "df2 = pd.concat(vehicle_chunk)"
   ]
  },
  {
   "cell_type": "code",
   "execution_count": 5,
   "id": "e4873064-b074-4a08-9c30-51ea63f7e6ef",
   "metadata": {},
   "outputs": [
    {
     "data": {
      "text/plain": [
       "(691195, 34)"
      ]
     },
     "execution_count": 5,
     "metadata": {},
     "output_type": "execute_result"
    }
   ],
   "source": [
    "df1.shape"
   ]
  },
  {
   "cell_type": "code",
   "execution_count": 6,
   "id": "96e22ebe-6e82-4dc3-a3af-1f7f950b9cc3",
   "metadata": {},
   "outputs": [
    {
     "data": {
      "text/plain": [
       "(1167198, 24)"
      ]
     },
     "execution_count": 6,
     "metadata": {},
     "output_type": "execute_result"
    }
   ],
   "source": [
    "df2.shape"
   ]
  },
  {
   "cell_type": "code",
   "execution_count": 7,
   "id": "9ed3c447-965b-46f0-b98f-3229f2ac4ddb",
   "metadata": {},
   "outputs": [],
   "source": [
    "#merging dataframes\n",
    "df = pd.merge(df1,df2)"
   ]
  },
  {
   "cell_type": "code",
   "execution_count": 8,
   "id": "659e15d9-8b47-4c7f-b680-72945352e382",
   "metadata": {},
   "outputs": [
    {
     "name": "stdout",
     "output_type": "stream",
     "text": [
      "Names of Combined Columns:\n",
      " Index(['Accident_Index', '1st_Road_Class', '1st_Road_Number', '2nd_Road_Class',\n",
      "       '2nd_Road_Number', 'Accident_Severity', 'Carriageway_Hazards', 'Date',\n",
      "       'Day_of_Week', 'Did_Police_Officer_Attend_Scene_of_Accident',\n",
      "       'Junction_Control', 'Junction_Detail', 'Latitude', 'Light_Conditions',\n",
      "       'Local_Authority_(District)', 'Local_Authority_(Highway)',\n",
      "       'Location_Easting_OSGR', 'Location_Northing_OSGR', 'Longitude',\n",
      "       'LSOA_of_Accident_Location', 'Number_of_Casualties',\n",
      "       'Number_of_Vehicles', 'Pedestrian_Crossing-Human_Control',\n",
      "       'Pedestrian_Crossing-Physical_Facilities', 'Police_Force',\n",
      "       'Road_Surface_Conditions', 'Road_Type', 'Special_Conditions_at_Site',\n",
      "       'Speed_limit', 'Time', 'Urban_or_Rural_Area', 'Weather_Conditions',\n",
      "       'Year', 'InScotland', 'Age_Band_of_Driver', 'Age_of_Vehicle',\n",
      "       'Driver_Home_Area_Type', 'Driver_IMD_Decile', 'Engine_Capacity_.CC.',\n",
      "       'Hit_Object_in_Carriageway', 'Hit_Object_off_Carriageway',\n",
      "       'Journey_Purpose_of_Driver', 'Junction_Location', 'make', 'model',\n",
      "       'Propulsion_Code', 'Sex_of_Driver', 'Skidding_and_Overturning',\n",
      "       'Towing_and_Articulation', 'Vehicle_Leaving_Carriageway',\n",
      "       'Vehicle_Location.Restricted_Lane', 'Vehicle_Manoeuvre',\n",
      "       'Vehicle_Reference', 'Vehicle_Type', 'Was_Vehicle_Left_Hand_Drive',\n",
      "       'X1st_Point_of_Impact'],\n",
      "      dtype='object') \n",
      "\n",
      "\n",
      "Shape:\n",
      " (720280, 56)\n"
     ]
    }
   ],
   "source": [
    "#check columns\n",
    "print(\"Names of Combined Columns:\\n\",df.columns, \"\\n\")\n",
    "print(\"\\nShape:\\n\",df.shape)"
   ]
  },
  {
   "cell_type": "code",
   "execution_count": 9,
   "id": "f7609ce3-1724-46af-832a-6c65ba3fa666",
   "metadata": {},
   "outputs": [
    {
     "name": "stdout",
     "output_type": "stream",
     "text": [
      "0.9994257015446207\n",
      "0.9999733124707344\n"
     ]
    }
   ],
   "source": [
    "#check correlation between Location_Easting_OSGR & Location_Northing_OSGR AND Longitude and Latitude\n",
    "\n",
    "print(df['Location_Easting_OSGR'].corr(df['Longitude']))\n",
    "\n",
    "\n",
    "print(df['Location_Northing_OSGR'].corr(df['Latitude']))"
   ]
  },
  {
   "cell_type": "code",
   "execution_count": 10,
   "id": "deedbb4c-ef6d-4b9e-8b15-3c98344ae7c6",
   "metadata": {},
   "outputs": [],
   "source": [
    "df = df.drop(['Location_Easting_OSGR', 'Location_Northing_OSGR'], axis=1)"
   ]
  },
  {
   "cell_type": "code",
   "execution_count": 11,
   "id": "93fbccda-c6c9-4c6f-bd58-fb621a22e353",
   "metadata": {},
   "outputs": [],
   "source": [
    "df.columns = map(str.lower, df.columns)\n",
    "df.columns = df.columns.str.replace('.','')\n",
    "df.columns = df.columns.str.replace('(','')\n",
    "df.columns = df.columns.str.replace(')','')\n",
    "df.columns = df.columns.str.replace('-','_')"
   ]
  },
  {
   "cell_type": "code",
   "execution_count": 12,
   "id": "89aea5f9-3f54-48b8-8803-cc33e44e6ef2",
   "metadata": {},
   "outputs": [],
   "source": [
    "#convert date/time to datetime datatype\n",
    "\n",
    "df['date'] = pd.to_datetime((df['date']), format= \"%Y-%m-%d\")"
   ]
  },
  {
   "cell_type": "code",
   "execution_count": 13,
   "id": "5d3a942a-3577-482b-aadc-3f8381af6bff",
   "metadata": {},
   "outputs": [
    {
     "name": "stdout",
     "output_type": "stream",
     "text": [
      "Index(['accident_index', '1st_road_class', '1st_road_number', '2nd_road_class',\n",
      "       '2nd_road_number', 'accident_severity', 'carriageway_hazards', 'date',\n",
      "       'day_of_week', 'did_police_officer_attend_scene_of_accident',\n",
      "       'junction_control', 'junction_detail', 'latitude', 'light_conditions',\n",
      "       'local_authority_district', 'local_authority_highway', 'longitude',\n",
      "       'lsoa_of_accident_location', 'number_of_casualties',\n",
      "       'number_of_vehicles', 'pedestrian_crossing_human_control',\n",
      "       'pedestrian_crossing_physical_facilities', 'police_force',\n",
      "       'road_surface_conditions', 'road_type', 'special_conditions_at_site',\n",
      "       'speed_limit', 'time', 'urban_or_rural_area', 'weather_conditions',\n",
      "       'year', 'inscotland', 'age_band_of_driver', 'age_of_vehicle',\n",
      "       'driver_home_area_type', 'driver_imd_decile', 'engine_capacity_cc',\n",
      "       'hit_object_in_carriageway', 'hit_object_off_carriageway',\n",
      "       'journey_purpose_of_driver', 'junction_location', 'make', 'model',\n",
      "       'propulsion_code', 'sex_of_driver', 'skidding_and_overturning',\n",
      "       'towing_and_articulation', 'vehicle_leaving_carriageway',\n",
      "       'vehicle_locationrestricted_lane', 'vehicle_manoeuvre',\n",
      "       'vehicle_reference', 'vehicle_type', 'was_vehicle_left_hand_drive',\n",
      "       'x1st_point_of_impact'],\n",
      "      dtype='object')\n"
     ]
    }
   ],
   "source": [
    "print(df.columns)"
   ]
  },
  {
   "cell_type": "code",
   "execution_count": 14,
   "id": "14057da5-30bb-49b6-ac0c-b890d9e3e373",
   "metadata": {},
   "outputs": [],
   "source": [
    "columns_to_convert = [\n",
    "    'did_police_officer_attend_scene_of_accident',\n",
    "    'driver_imd_decile',\n",
    "    'vehicle_reference',\n",
    "    'vehicle_locationrestricted_lane',\n",
    "    '1st_road_number',\n",
    "    '2nd_road_number',\n",
    "    'pedestrian_crossing_physical_facilities',\n",
    "    'pedestrian_crossing_human_control'\n",
    "]\n",
    "\n",
    "df[columns_to_convert] = df[columns_to_convert].astype('object')\n"
   ]
  },
  {
   "cell_type": "code",
   "execution_count": 15,
   "id": "b28eff59-0bbd-4671-b0cf-830835fbaade",
   "metadata": {},
   "outputs": [
    {
     "data": {
      "text/plain": [
       "(720280, 54)"
      ]
     },
     "execution_count": 15,
     "metadata": {},
     "output_type": "execute_result"
    }
   ],
   "source": [
    "df.shape"
   ]
  },
  {
   "cell_type": "code",
   "execution_count": 16,
   "id": "e98c64f4-1df3-4a4a-81ec-02ba0d2278f8",
   "metadata": {},
   "outputs": [
    {
     "data": {
      "text/plain": [
       "carriageway_hazards                            99.137558\n",
       "special_conditions_at_site                     98.133087\n",
       "hit_object_in_carriageway                      96.883573\n",
       "hit_object_off_carriageway                     94.413561\n",
       "skidding_and_overturning                       91.595213\n",
       "driver_imd_decile                              25.118565\n",
       "age_of_vehicle                                 15.287805\n",
       "model                                          11.636447\n",
       "engine_capacity_cc                             11.283251\n",
       "propulsion_code                                10.899928\n",
       "make                                            5.846476\n",
       "lsoa_of_accident_location                       5.674738\n",
       "2nd_road_class                                  2.894569\n",
       "2nd_road_number                                 1.291303\n",
       "pedestrian_crossing_physical_facilities         0.006109\n",
       "pedestrian_crossing_human_control               0.005276\n",
       "time                                            0.004582\n",
       "speed_limit                                     0.001805\n",
       "vehicle_locationrestricted_lane                 0.001527\n",
       "did_police_officer_attend_scene_of_accident     0.000139\n",
       "vehicle_manoeuvre                               0.000000\n",
       "age_band_of_driver                              0.000000\n",
       "junction_location                               0.000000\n",
       "vehicle_leaving_carriageway                     0.000000\n",
       "sex_of_driver                                   0.000000\n",
       "journey_purpose_of_driver                       0.000000\n",
       "vehicle_reference                               0.000000\n",
       "vehicle_type                                    0.000000\n",
       "towing_and_articulation                         0.000000\n",
       "was_vehicle_left_hand_drive                     0.000000\n",
       "driver_home_area_type                           0.000000\n",
       "accident_index                                  0.000000\n",
       "inscotland                                      0.000000\n",
       "year                                            0.000000\n",
       "1st_road_number                                 0.000000\n",
       "accident_severity                               0.000000\n",
       "date                                            0.000000\n",
       "day_of_week                                     0.000000\n",
       "junction_control                                0.000000\n",
       "junction_detail                                 0.000000\n",
       "latitude                                        0.000000\n",
       "light_conditions                                0.000000\n",
       "local_authority_district                        0.000000\n",
       "local_authority_highway                         0.000000\n",
       "longitude                                       0.000000\n",
       "number_of_casualties                            0.000000\n",
       "number_of_vehicles                              0.000000\n",
       "police_force                                    0.000000\n",
       "road_surface_conditions                         0.000000\n",
       "road_type                                       0.000000\n",
       "1st_road_class                                  0.000000\n",
       "urban_or_rural_area                             0.000000\n",
       "weather_conditions                              0.000000\n",
       "x1st_point_of_impact                            0.000000\n",
       "dtype: float64"
      ]
     },
     "execution_count": 16,
     "metadata": {},
     "output_type": "execute_result"
    }
   ],
   "source": [
    "df.isnull().sum().sort_values(ascending=False)/df.shape[0]*100"
   ]
  },
  {
   "cell_type": "code",
   "execution_count": 17,
   "id": "1ed8226b-3f1c-4746-a1b6-fca424e9044b",
   "metadata": {},
   "outputs": [
    {
     "data": {
      "text/plain": [
       "2nd_road_class\n",
       "Unclassified    65.682512\n",
       "A               15.892292\n",
       "C                7.591909\n",
       "B                6.494558\n",
       "Motorway         1.301716\n",
       "A(M)             0.142445\n",
       "Name: count, dtype: float64"
      ]
     },
     "execution_count": 17,
     "metadata": {},
     "output_type": "execute_result"
    }
   ],
   "source": [
    "df['2nd_road_class'].value_counts()/df.shape[0]*100"
   ]
  },
  {
   "cell_type": "code",
   "execution_count": 18,
   "id": "30ac0299-0b24-4886-a363-e51dfc54ca1e",
   "metadata": {},
   "outputs": [],
   "source": [
    "df = df.drop(['2nd_road_class'], axis=1)"
   ]
  },
  {
   "cell_type": "code",
   "execution_count": 19,
   "id": "863c9fd1-d8d4-42c2-98c8-d9f8adf47dc0",
   "metadata": {},
   "outputs": [
    {
     "data": {
      "text/plain": [
       "driver_imd_decile\n",
       "2.0     8.366469\n",
       "3.0     8.281640\n",
       "4.0     7.986339\n",
       "1.0     7.888321\n",
       "5.0     7.717554\n",
       "6.0     7.530683\n",
       "7.0     7.195674\n",
       "8.0     6.948270\n",
       "9.0     6.803049\n",
       "10.0    6.163436\n",
       "Name: count, dtype: float64"
      ]
     },
     "execution_count": 19,
     "metadata": {},
     "output_type": "execute_result"
    }
   ],
   "source": [
    "df['driver_imd_decile'].value_counts()/df.shape[0]*100"
   ]
  },
  {
   "cell_type": "code",
   "execution_count": 20,
   "id": "0f75dc72-9bad-47f0-b985-974261f0b087",
   "metadata": {},
   "outputs": [
    {
     "name": "stderr",
     "output_type": "stream",
     "text": [
      "C:\\Users\\amnaj\\AppData\\Local\\Temp\\ipykernel_1700\\3239869356.py:1: FutureWarning: A value is trying to be set on a copy of a DataFrame or Series through chained assignment using an inplace method.\n",
      "The behavior will change in pandas 3.0. This inplace method will never work because the intermediate object on which we are setting values always behaves as a copy.\n",
      "\n",
      "For example, when doing 'df[col].method(value, inplace=True)', try using 'df.method({col: value}, inplace=True)' or df[col] = df[col].method(value) instead, to perform the operation inplace on the original object.\n",
      "\n",
      "\n",
      "  df['driver_imd_decile'].fillna(method='ffill', inplace=True)\n",
      "C:\\Users\\amnaj\\AppData\\Local\\Temp\\ipykernel_1700\\3239869356.py:1: FutureWarning: Series.fillna with 'method' is deprecated and will raise in a future version. Use obj.ffill() or obj.bfill() instead.\n",
      "  df['driver_imd_decile'].fillna(method='ffill', inplace=True)\n",
      "C:\\Users\\amnaj\\AppData\\Local\\Temp\\ipykernel_1700\\3239869356.py:1: FutureWarning: Downcasting object dtype arrays on .fillna, .ffill, .bfill is deprecated and will change in a future version. Call result.infer_objects(copy=False) instead. To opt-in to the future behavior, set `pd.set_option('future.no_silent_downcasting', True)`\n",
      "  df['driver_imd_decile'].fillna(method='ffill', inplace=True)\n"
     ]
    }
   ],
   "source": [
    "df['driver_imd_decile'].fillna(method='ffill', inplace=True)"
   ]
  },
  {
   "cell_type": "code",
   "execution_count": 21,
   "id": "80a835b9-2fab-49ac-94bb-bef9f0038b6d",
   "metadata": {},
   "outputs": [
    {
     "data": {
      "text/plain": [
       "(720280, 53)"
      ]
     },
     "execution_count": 21,
     "metadata": {},
     "output_type": "execute_result"
    }
   ],
   "source": [
    "df.shape"
   ]
  },
  {
   "cell_type": "code",
   "execution_count": 22,
   "id": "f4cadd24-8a40-4314-b10b-0bb685795a15",
   "metadata": {},
   "outputs": [
    {
     "data": {
      "text/plain": [
       "count    610165.000000\n",
       "mean          7.567473\n",
       "std           4.751567\n",
       "min           1.000000\n",
       "25%           4.000000\n",
       "50%           7.000000\n",
       "75%          11.000000\n",
       "max         105.000000\n",
       "Name: age_of_vehicle, dtype: float64"
      ]
     },
     "execution_count": 22,
     "metadata": {},
     "output_type": "execute_result"
    }
   ],
   "source": [
    "df['age_of_vehicle'].describe()"
   ]
  },
  {
   "cell_type": "code",
   "execution_count": 23,
   "id": "24dbb012-5284-4fc3-a396-f1c112511476",
   "metadata": {},
   "outputs": [
    {
     "data": {
      "text/plain": [
       "7.0"
      ]
     },
     "execution_count": 23,
     "metadata": {},
     "output_type": "execute_result"
    }
   ],
   "source": [
    "df['age_of_vehicle'].median()"
   ]
  },
  {
   "cell_type": "code",
   "execution_count": 24,
   "id": "7956308a-aefd-49cf-8403-859ad1a0ebb6",
   "metadata": {},
   "outputs": [
    {
     "name": "stderr",
     "output_type": "stream",
     "text": [
      "C:\\Users\\amnaj\\AppData\\Local\\Temp\\ipykernel_1700\\1115827109.py:2: FutureWarning: A value is trying to be set on a copy of a DataFrame or Series through chained assignment using an inplace method.\n",
      "The behavior will change in pandas 3.0. This inplace method will never work because the intermediate object on which we are setting values always behaves as a copy.\n",
      "\n",
      "For example, when doing 'df[col].method(value, inplace=True)', try using 'df.method({col: value}, inplace=True)' or df[col] = df[col].method(value) instead, to perform the operation inplace on the original object.\n",
      "\n",
      "\n",
      "  df['age_of_vehicle'].fillna(7, inplace=True)\n"
     ]
    }
   ],
   "source": [
    "#fillna by 7 \n",
    "df['age_of_vehicle'].fillna(7, inplace=True)\n",
    "\n",
    "#group age_of_vehicle\n",
    "#1=0-3, 2=3-5, 3=5-8, 4=8-11, 5=\n",
    "def fixedvehicleage(age):\n",
    "    if age>=0 and age<=120:\n",
    "        return age\n",
    "    else:\n",
    "        return np.nan\n",
    "\n",
    "df['age_of_vehicle'] = df['age_of_vehicle'].apply(fixedvehicleage)\n",
    "\n",
    "\n",
    "df['age_of_vehicle'] = pd.cut(df['age_of_vehicle'], \n",
    "                             [0,2,5,8,11,14,17,120], labels=['1', '2', '3','4','5','6','7'])"
   ]
  },
  {
   "cell_type": "code",
   "execution_count": 25,
   "id": "b34e9ea7-76a9-4878-85f1-6dac7f214281",
   "metadata": {},
   "outputs": [
    {
     "data": {
      "text/plain": [
       "(720280, 53)"
      ]
     },
     "execution_count": 25,
     "metadata": {},
     "output_type": "execute_result"
    }
   ],
   "source": [
    "df.shape"
   ]
  },
  {
   "cell_type": "code",
   "execution_count": 26,
   "id": "6aacba1a-537f-44a8-aef4-996e372298cd",
   "metadata": {},
   "outputs": [
    {
     "data": {
      "text/plain": [
       "model\n",
       "MISSING                        0.743183\n",
       "KA                             0.336675\n",
       "CLIO DYNAMIQUE 16V             0.279058\n",
       "FIESTA ZETEC                   0.247681\n",
       "SPRINTER 313 CDI               0.236158\n",
       "                                 ...   \n",
       "400                            0.000139\n",
       "308 ACCESS SW AUTO             0.000139\n",
       "MERIVA EXPRESSION DTI          0.000139\n",
       "DS3 DSPORT PINK AIRDREAM E-    0.000139\n",
       "DAILY 35 C14 MWB               0.000139\n",
       "Name: count, Length: 28664, dtype: float64"
      ]
     },
     "execution_count": 26,
     "metadata": {},
     "output_type": "execute_result"
    }
   ],
   "source": [
    "df['model'].value_counts()/df.shape[0]*100"
   ]
  },
  {
   "cell_type": "code",
   "execution_count": 27,
   "id": "b7340944-62c4-4aa7-b6a7-4706f22394a6",
   "metadata": {},
   "outputs": [
    {
     "data": {
      "text/plain": [
       "count      636465\n",
       "unique      28664\n",
       "top       MISSING\n",
       "freq         5353\n",
       "Name: model, dtype: object"
      ]
     },
     "execution_count": 27,
     "metadata": {},
     "output_type": "execute_result"
    }
   ],
   "source": [
    "df['model'].describe()"
   ]
  },
  {
   "cell_type": "code",
   "execution_count": 28,
   "id": "c798f7c7-5441-4976-9e97-d3d034d6f2ce",
   "metadata": {},
   "outputs": [
    {
     "name": "stderr",
     "output_type": "stream",
     "text": [
      "C:\\Users\\amnaj\\AppData\\Local\\Temp\\ipykernel_1700\\3933975539.py:1: FutureWarning: A value is trying to be set on a copy of a DataFrame or Series through chained assignment using an inplace method.\n",
      "The behavior will change in pandas 3.0. This inplace method will never work because the intermediate object on which we are setting values always behaves as a copy.\n",
      "\n",
      "For example, when doing 'df[col].method(value, inplace=True)', try using 'df.method({col: value}, inplace=True)' or df[col] = df[col].method(value) instead, to perform the operation inplace on the original object.\n",
      "\n",
      "\n",
      "  df['model'].fillna(method='ffill', inplace=True)\n",
      "C:\\Users\\amnaj\\AppData\\Local\\Temp\\ipykernel_1700\\3933975539.py:1: FutureWarning: Series.fillna with 'method' is deprecated and will raise in a future version. Use obj.ffill() or obj.bfill() instead.\n",
      "  df['model'].fillna(method='ffill', inplace=True)\n"
     ]
    }
   ],
   "source": [
    "df['model'].fillna(method='ffill', inplace=True)"
   ]
  },
  {
   "cell_type": "code",
   "execution_count": 29,
   "id": "1d9ab38d-6fc2-4aba-bb62-4aae113891de",
   "metadata": {},
   "outputs": [
    {
     "data": {
      "text/plain": [
       "count    639009.000000\n",
       "mean       1848.094816\n",
       "std        1573.057956\n",
       "min           2.000000\n",
       "25%        1248.000000\n",
       "50%        1598.000000\n",
       "75%        1995.000000\n",
       "max       91000.000000\n",
       "Name: engine_capacity_cc, dtype: float64"
      ]
     },
     "execution_count": 29,
     "metadata": {},
     "output_type": "execute_result"
    }
   ],
   "source": [
    "df['engine_capacity_cc'].describe()"
   ]
  },
  {
   "cell_type": "code",
   "execution_count": 30,
   "id": "41aa506a-bd46-4a3e-a8fd-b4ae04ea16e0",
   "metadata": {},
   "outputs": [
    {
     "name": "stdout",
     "output_type": "stream",
     "text": [
      "3115.5\n",
      "127.5\n"
     ]
    }
   ],
   "source": [
    "import numpy as np\n",
    "q75, q25 = np.percentile(df['engine_capacity_cc'].dropna(), [75 ,25])\n",
    "iqr = q75 - q25\n",
    " \n",
    "ecmin = q25 - (iqr*1.5)\n",
    "ecmax = q75 + (iqr*1.5)\n",
    "\n",
    "print(ecmax)\n",
    "print(ecmin)"
   ]
  },
  {
   "cell_type": "code",
   "execution_count": 31,
   "id": "ca4dcafc-f5c4-4fcb-aa0a-6455e36a817a",
   "metadata": {},
   "outputs": [],
   "source": [
    "df = df[df['engine_capacity_cc']<=ecmax]"
   ]
  },
  {
   "cell_type": "code",
   "execution_count": 32,
   "id": "b5cf5ec1-8ff4-4fda-afa7-e2624793e679",
   "metadata": {},
   "outputs": [],
   "source": [
    "df = df[df['engine_capacity_cc']>=ecmin]"
   ]
  },
  {
   "cell_type": "code",
   "execution_count": 33,
   "id": "754aedf1-1b59-400c-86d6-82c2e0931d92",
   "metadata": {},
   "outputs": [
    {
     "data": {
      "image/png": "[encoded data removed]",
      "text/plain": [
       "<Figure size 640x480 with 1 Axes>"
      ]
     },
     "metadata": {},
     "output_type": "display_data"
    }
   ],
   "source": [
    "import matplotlib.pyplot as plt\n",
    "plt.style.use('dark_background')\n",
    "%matplotlib inline\n",
    "df['engine_capacity_cc'].hist(bins=20)\n",
    "plt.style.use('dark_background')"
   ]
  },
  {
   "cell_type": "code",
   "execution_count": 34,
   "id": "a656aeb8-d3ac-4292-a3c4-8e945e86b14b",
   "metadata": {},
   "outputs": [
    {
     "data": {
      "text/plain": [
       "count    569057.000000\n",
       "mean       1633.351432\n",
       "std         473.765085\n",
       "min         128.000000\n",
       "25%        1299.000000\n",
       "50%        1598.000000\n",
       "75%        1968.000000\n",
       "max        3110.000000\n",
       "Name: engine_capacity_cc, dtype: float64"
      ]
     },
     "execution_count": 34,
     "metadata": {},
     "output_type": "execute_result"
    }
   ],
   "source": [
    "df['engine_capacity_cc'].describe()"
   ]
  },
  {
   "cell_type": "code",
   "execution_count": 35,
   "id": "e60d99e4-ee06-48d0-a3bb-d7d5c91f18a2",
   "metadata": {},
   "outputs": [
    {
     "data": {
      "text/plain": [
       "1633.3514322818276"
      ]
     },
     "execution_count": 35,
     "metadata": {},
     "output_type": "execute_result"
    }
   ],
   "source": [
    "df['engine_capacity_cc'].mean()"
   ]
  },
  {
   "cell_type": "code",
   "execution_count": 36,
   "id": "ce06ee4a-bdec-4b1f-8d3f-13ba1608fe39",
   "metadata": {},
   "outputs": [
    {
     "name": "stderr",
     "output_type": "stream",
     "text": [
      "C:\\Users\\amnaj\\AppData\\Local\\Temp\\ipykernel_1700\\470219815.py:1: FutureWarning: A value is trying to be set on a copy of a DataFrame or Series through chained assignment using an inplace method.\n",
      "The behavior will change in pandas 3.0. This inplace method will never work because the intermediate object on which we are setting values always behaves as a copy.\n",
      "\n",
      "For example, when doing 'df[col].method(value, inplace=True)', try using 'df.method({col: value}, inplace=True)' or df[col] = df[col].method(value) instead, to perform the operation inplace on the original object.\n",
      "\n",
      "\n",
      "  df['engine_capacity_cc'].fillna(1652, inplace=True)\n"
     ]
    }
   ],
   "source": [
    "df['engine_capacity_cc'].fillna(1652, inplace=True)"
   ]
  },
  {
   "cell_type": "code",
   "execution_count": 37,
   "id": "23dd757e-34e5-4d87-bfbd-a02ee269af5a",
   "metadata": {},
   "outputs": [
    {
     "data": {
      "text/plain": [
       "lsoa_of_accident_location\n",
       "E01032739    440\n",
       "E01004736    412\n",
       "E01000004    410\n",
       "E01018648    303\n",
       "E01004689    261\n",
       "            ... \n",
       "E01008724      1\n",
       "E01008317      1\n",
       "E01008531      1\n",
       "E01027610      1\n",
       "E01004700      1\n",
       "Name: count, Length: 33936, dtype: int64"
      ]
     },
     "execution_count": 37,
     "metadata": {},
     "output_type": "execute_result"
    }
   ],
   "source": [
    "df['lsoa_of_accident_location'].value_counts()"
   ]
  },
  {
   "cell_type": "code",
   "execution_count": 38,
   "id": "d73e911a-6291-4eb8-bb58-a9efe89404ed",
   "metadata": {},
   "outputs": [
    {
     "data": {
      "text/plain": [
       "count        535471\n",
       "unique        33936\n",
       "top       E01032739\n",
       "freq            440\n",
       "Name: lsoa_of_accident_location, dtype: object"
      ]
     },
     "execution_count": 38,
     "metadata": {},
     "output_type": "execute_result"
    }
   ],
   "source": [
    "df['lsoa_of_accident_location'].describe()"
   ]
  },
  {
   "cell_type": "code",
   "execution_count": 39,
   "id": "c9341504-d40f-43cb-bd31-7bc7a8e9e4da",
   "metadata": {},
   "outputs": [
    {
     "name": "stderr",
     "output_type": "stream",
     "text": [
      "C:\\Users\\amnaj\\AppData\\Local\\Temp\\ipykernel_1700\\2441318583.py:1: FutureWarning: A value is trying to be set on a copy of a DataFrame or Series through chained assignment using an inplace method.\n",
      "The behavior will change in pandas 3.0. This inplace method will never work because the intermediate object on which we are setting values always behaves as a copy.\n",
      "\n",
      "For example, when doing 'df[col].method(value, inplace=True)', try using 'df.method({col: value}, inplace=True)' or df[col] = df[col].method(value) instead, to perform the operation inplace on the original object.\n",
      "\n",
      "\n",
      "  df['lsoa_of_accident_location'].fillna(method='ffill', inplace=True)\n",
      "C:\\Users\\amnaj\\AppData\\Local\\Temp\\ipykernel_1700\\2441318583.py:1: FutureWarning: Series.fillna with 'method' is deprecated and will raise in a future version. Use obj.ffill() or obj.bfill() instead.\n",
      "  df['lsoa_of_accident_location'].fillna(method='ffill', inplace=True)\n"
     ]
    }
   ],
   "source": [
    "df['lsoa_of_accident_location'].fillna(method='ffill', inplace=True)"
   ]
  },
  {
   "cell_type": "code",
   "execution_count": 40,
   "id": "82aa09fc-dfb8-418f-badc-6f13d1e70d08",
   "metadata": {},
   "outputs": [
    {
     "data": {
      "text/plain": [
       "carriageway_hazards                            99.172491\n",
       "special_conditions_at_site                     98.139905\n",
       "hit_object_in_carriageway                      96.792237\n",
       "hit_object_off_carriageway                     93.836646\n",
       "skidding_and_overturning                       92.130490\n",
       "2nd_road_number                                 1.317618\n",
       "make                                            0.063087\n",
       "pedestrian_crossing_human_control               0.005448\n",
       "pedestrian_crossing_physical_facilities         0.005096\n",
       "time                                            0.003866\n",
       "vehicle_locationrestricted_lane                 0.001406\n",
       "speed_limit                                     0.001230\n",
       "did_police_officer_attend_scene_of_accident     0.000176\n",
       "journey_purpose_of_driver                       0.000000\n",
       "engine_capacity_cc                              0.000000\n",
       "driver_imd_decile                               0.000000\n",
       "driver_home_area_type                           0.000000\n",
       "age_of_vehicle                                  0.000000\n",
       "model                                           0.000000\n",
       "junction_location                               0.000000\n",
       "inscotland                                      0.000000\n",
       "propulsion_code                                 0.000000\n",
       "sex_of_driver                                   0.000000\n",
       "towing_and_articulation                         0.000000\n",
       "vehicle_leaving_carriageway                     0.000000\n",
       "vehicle_manoeuvre                               0.000000\n",
       "vehicle_reference                               0.000000\n",
       "vehicle_type                                    0.000000\n",
       "was_vehicle_left_hand_drive                     0.000000\n",
       "age_band_of_driver                              0.000000\n",
       "accident_index                                  0.000000\n",
       "year                                            0.000000\n",
       "weather_conditions                              0.000000\n",
       "1st_road_number                                 0.000000\n",
       "accident_severity                               0.000000\n",
       "date                                            0.000000\n",
       "day_of_week                                     0.000000\n",
       "junction_control                                0.000000\n",
       "junction_detail                                 0.000000\n",
       "latitude                                        0.000000\n",
       "light_conditions                                0.000000\n",
       "local_authority_district                        0.000000\n",
       "local_authority_highway                         0.000000\n",
       "longitude                                       0.000000\n",
       "lsoa_of_accident_location                       0.000000\n",
       "number_of_casualties                            0.000000\n",
       "number_of_vehicles                              0.000000\n",
       "police_force                                    0.000000\n",
       "road_surface_conditions                         0.000000\n",
       "road_type                                       0.000000\n",
       "1st_road_class                                  0.000000\n",
       "urban_or_rural_area                             0.000000\n",
       "x1st_point_of_impact                            0.000000\n",
       "dtype: float64"
      ]
     },
     "execution_count": 40,
     "metadata": {},
     "output_type": "execute_result"
    }
   ],
   "source": [
    "df.isnull().sum().sort_values(ascending=False)/df.shape[0]*100"
   ]
  },
  {
   "cell_type": "code",
   "execution_count": 41,
   "id": "b7752129-7970-456c-9281-fcd4463e19e5",
   "metadata": {},
   "outputs": [
    {
     "data": {
      "text/plain": [
       "carriageway_hazards\n",
       "Other object on road                               0.340739\n",
       "Pedestrian in carriageway - not injured            0.157981\n",
       "Any animal in carriageway (except ridden horse)    0.145328\n",
       "Previous accident                                  0.100166\n",
       "Vehicle load on road                               0.083296\n",
       "Name: count, dtype: float64"
      ]
     },
     "execution_count": 41,
     "metadata": {},
     "output_type": "execute_result"
    }
   ],
   "source": [
    "df['carriageway_hazards'].value_counts()/df.shape[0]*100"
   ]
  },
  {
   "cell_type": "code",
   "execution_count": 42,
   "id": "a324aed0-ed63-418e-af4e-feafe33a1bff",
   "metadata": {},
   "outputs": [
    {
     "data": {
      "text/plain": [
       "(569057, 53)"
      ]
     },
     "execution_count": 42,
     "metadata": {},
     "output_type": "execute_result"
    }
   ],
   "source": [
    "df.shape"
   ]
  },
  {
   "cell_type": "code",
   "execution_count": 43,
   "id": "ca7c4b39-ec7a-483b-8144-deed8029faa4",
   "metadata": {},
   "outputs": [],
   "source": [
    "df3 = df"
   ]
  },
  {
   "cell_type": "code",
   "execution_count": 44,
   "id": "98265b5d-efbe-429e-82bc-b7c096fe884d",
   "metadata": {},
   "outputs": [],
   "source": [
    "columns_to_drop = ['carriageway_hazards',\n",
    "'special_conditions_at_site',\n",
    "'hit_object_in_carriageway',\n",
    "'hit_object_off_carriageway',\n",
    "'skidding_and_overturning']\n",
    "df3 = df3.drop(columns_to_drop, axis=1)"
   ]
  },
  {
   "cell_type": "code",
   "execution_count": 45,
   "id": "bdd8f0fc-130f-4c34-9f31-b8a72cc180fa",
   "metadata": {},
   "outputs": [],
   "source": [
    "df3.dropna(inplace=True)"
   ]
  },
  {
   "cell_type": "code",
   "execution_count": 46,
   "id": "35cb81b2-7405-4fb1-a6c2-7c92eaeafedf",
   "metadata": {},
   "outputs": [
    {
     "data": {
      "text/plain": [
       "(561135, 48)"
      ]
     },
     "execution_count": 46,
     "metadata": {},
     "output_type": "execute_result"
    }
   ],
   "source": [
    "df3.shape"
   ]
  },
  {
   "cell_type": "code",
   "execution_count": 47,
   "id": "2140a7ee-2817-4480-9af3-9b45ce77599b",
   "metadata": {},
   "outputs": [
    {
     "data": {
      "text/plain": [
       "number_of_casualties\n",
       "1     391938\n",
       "2     113736\n",
       "3      35451\n",
       "4      12511\n",
       "5       4621\n",
       "6       1739\n",
       "7        599\n",
       "8        243\n",
       "9        146\n",
       "10        52\n",
       "11        29\n",
       "12        28\n",
       "13        15\n",
       "16        10\n",
       "14         4\n",
       "15         3\n",
       "17         3\n",
       "24         2\n",
       "21         2\n",
       "43         1\n",
       "22         1\n",
       "19         1\n",
       "Name: count, dtype: int64"
      ]
     },
     "execution_count": 47,
     "metadata": {},
     "output_type": "execute_result"
    }
   ],
   "source": [
    "df3['number_of_casualties'].value_counts()"
   ]
  },
  {
   "cell_type": "code",
   "execution_count": 48,
   "id": "4116d5a9-7824-4c97-b177-9ee68b682167",
   "metadata": {},
   "outputs": [],
   "source": [
    "def casualities(num_cas):\n",
    "    if num_cas >=1 and num_cas <2:\n",
    "        return \"1\"\n",
    "    elif num_cas >=2 and num_cas <3:\n",
    "        return \"2\"\n",
    "    elif num_cas >=3 and num_cas <4:\n",
    "        return \"3\"\n",
    "    elif num_cas >= 4 and num_cas <5:\n",
    "        return \"4\"\n",
    "    elif num_cas >= 5:\n",
    "        return \"5+\""
   ]
  },
  {
   "cell_type": "code",
   "execution_count": 49,
   "id": "495e9508-cbdc-4418-9f2f-ec3e232e9bbc",
   "metadata": {},
   "outputs": [],
   "source": [
    "df3['number_of_casualties']= df3['number_of_casualties'].apply(casualities)"
   ]
  },
  {
   "cell_type": "code",
   "execution_count": 50,
   "id": "990b5f25-d693-4993-98cd-36a11c9dd76f",
   "metadata": {},
   "outputs": [
    {
     "data": {
      "text/plain": [
       "number_of_casualties\n",
       "1     391938\n",
       "2     113736\n",
       "3      35451\n",
       "4      12511\n",
       "5+      7499\n",
       "Name: count, dtype: int64"
      ]
     },
     "execution_count": 50,
     "metadata": {},
     "output_type": "execute_result"
    }
   ],
   "source": [
    "df3['number_of_casualties'].value_counts()"
   ]
  },
  {
   "cell_type": "code",
   "execution_count": 51,
   "id": "2eb9a032-d8c6-43bc-bb60-fd0648fcf893",
   "metadata": {},
   "outputs": [],
   "source": [
    "df = df3"
   ]
  },
  {
   "cell_type": "code",
   "execution_count": 53,
   "id": "334a0204-a6f5-4220-bc93-4fd24709b07a",
   "metadata": {},
   "outputs": [
    {
     "data": {
      "text/plain": [
       "propulsion_code\n",
       "Petrol                 29.104916\n",
       "Heavy oil              18.530618\n",
       "Hybrid electric         0.376286\n",
       "Gas/Bi-fuel             0.045579\n",
       "Petrol/Gas (LPG)        0.010195\n",
       "Electric diesel         0.006340\n",
       "Gas                     0.001114\n",
       "New fuel technology     0.000171\n",
       "Gas Diesel              0.000086\n",
       "Fuel cells              0.000086\n",
       "Name: count, dtype: float64"
      ]
     },
     "execution_count": 53,
     "metadata": {},
     "output_type": "execute_result"
    }
   ],
   "source": [
    "df['propulsion_code'].value_counts()/df2.shape[0]*100"
   ]
  },
  {
   "cell_type": "code",
   "execution_count": 54,
   "id": "a419bc0a-688f-46ca-af7c-31d0ec917cf7",
   "metadata": {},
   "outputs": [],
   "source": [
    "df['propulsion_code'] = df['propulsion_code'].replace(to_replace=\"Gas\", value=\"Petrol\")\n",
    "df['propulsion_code'] = df['propulsion_code'].replace(to_replace=\"Gas/Bi-fuel\", value=\"Bio-fuel\")\n",
    "df['propulsion_code'] = df['propulsion_code'].replace(to_replace=\"Petrol/Gas (LPG)\", value=\"LPG Petrol\")\n",
    "df['propulsion_code'] = df['propulsion_code'].replace(to_replace=\"Gas Diesel\", value=\"Diesel\")"
   ]
  },
  {
   "cell_type": "code",
   "execution_count": 57,
   "id": "14f38a12-dec3-4f04-9991-fef5159325d6",
   "metadata": {},
   "outputs": [
    {
     "data": {
      "text/plain": [
       "propulsion_code\n",
       "Petrol                 60.542472\n",
       "Heavy oil              38.544913\n",
       "Hybrid electric         0.782699\n",
       "Bio-fuel                0.094808\n",
       "LPG Petrol              0.021207\n",
       "Electric diesel         0.013188\n",
       "New fuel technology     0.000356\n",
       "Diesel                  0.000178\n",
       "Fuel cells              0.000178\n",
       "Name: count, dtype: float64"
      ]
     },
     "execution_count": 57,
     "metadata": {},
     "output_type": "execute_result"
    }
   ],
   "source": [
    "df['propulsion_code'].value_counts()/df.shape[0]*100"
   ]
  },
  {
   "cell_type": "code",
   "execution_count": 58,
   "id": "6c9699a0-95ec-441e-a7ac-37182f4abcab",
   "metadata": {},
   "outputs": [
    {
     "data": {
      "text/plain": [
       "accident_index                                 412838\n",
       "longitude                                      356283\n",
       "latitude                                       346962\n",
       "lsoa_of_accident_location                       33895\n",
       "model                                           25688\n",
       "2nd_road_number                                  5781\n",
       "1st_road_number                                  5088\n",
       "date                                             2557\n",
       "time                                             1439\n",
       "engine_capacity_cc                               1023\n",
       "local_authority_district                          380\n",
       "make                                              226\n",
       "local_authority_highway                           207\n",
       "police_force                                       51\n",
       "vehicle_manoeuvre                                  18\n",
       "vehicle_type                                       16\n",
       "vehicle_reference                                  15\n",
       "number_of_vehicles                                 15\n",
       "age_band_of_driver                                 11\n",
       "driver_imd_decile                                  10\n",
       "vehicle_locationrestricted_lane                    10\n",
       "propulsion_code                                     9\n",
       "junction_location                                   9\n",
       "weather_conditions                                  9\n",
       "junction_detail                                     9\n",
       "vehicle_leaving_carriageway                         9\n",
       "speed_limit                                         7\n",
       "year                                                7\n",
       "journey_purpose_of_driver                           7\n",
       "age_of_vehicle                                      7\n",
       "day_of_week                                         7\n",
       "1st_road_class                                      6\n",
       "towing_and_articulation                             6\n",
       "pedestrian_crossing_physical_facilities             6\n",
       "x1st_point_of_impact                                5\n",
       "junction_control                                    5\n",
       "road_type                                           5\n",
       "road_surface_conditions                             5\n",
       "number_of_casualties                                5\n",
       "light_conditions                                    5\n",
       "driver_home_area_type                               3\n",
       "accident_severity                                   3\n",
       "sex_of_driver                                       3\n",
       "pedestrian_crossing_human_control                   3\n",
       "did_police_officer_attend_scene_of_accident         3\n",
       "urban_or_rural_area                                 2\n",
       "was_vehicle_left_hand_drive                         2\n",
       "inscotland                                          2\n",
       "dtype: int64"
      ]
     },
     "execution_count": 58,
     "metadata": {},
     "output_type": "execute_result"
    }
   ],
   "source": [
    "df.nunique().sort_values(ascending=False)"
   ]
  },
  {
   "cell_type": "code",
   "execution_count": 59,
   "id": "ac513a1a-11fa-49c7-86c1-3fea70acb319",
   "metadata": {},
   "outputs": [
    {
     "data": {
      "text/plain": [
       "(561135, 48)"
      ]
     },
     "execution_count": 59,
     "metadata": {},
     "output_type": "execute_result"
    }
   ],
   "source": [
    "# 561135\n",
    "df.shape"
   ]
  },
  {
   "cell_type": "code",
   "execution_count": 61,
   "id": "b84e2f68-b0e4-4379-92dc-b9c3f4c2c95a",
   "metadata": {},
   "outputs": [],
   "source": [
    "df5 = df3"
   ]
  },
  {
   "cell_type": "code",
   "execution_count": 62,
   "id": "68eeab64-b39a-4d49-8342-fb11079af842",
   "metadata": {},
   "outputs": [
    {
     "data": {
      "text/plain": [
       "number_of_vehicles\n",
       "2     72.944835\n",
       "3     11.924403\n",
       "1     11.570121\n",
       "4      2.706122\n",
       "5      0.582747\n",
       "6      0.167874\n",
       "7      0.059166\n",
       "8      0.021385\n",
       "11     0.005881\n",
       "9      0.005881\n",
       "10     0.004277\n",
       "14     0.002317\n",
       "13     0.002139\n",
       "16     0.001782\n",
       "12     0.001069\n",
       "Name: count, dtype: float64"
      ]
     },
     "execution_count": 62,
     "metadata": {},
     "output_type": "execute_result"
    }
   ],
   "source": [
    "df['number_of_vehicles'].value_counts()/df.shape[0]*100"
   ]
  },
  {
   "cell_type": "code",
   "execution_count": 63,
   "id": "92e8eea4-86eb-4447-91bc-18d77614ce1c",
   "metadata": {},
   "outputs": [],
   "source": [
    "def vehicles(num_veh):\n",
    "    if num_veh >=1 and num_veh <2:\n",
    "        return \"1\"\n",
    "    elif num_veh >=2 and num_veh <3:\n",
    "        return \"2\"\n",
    "    elif num_veh >=3 and num_veh <4:\n",
    "        return \"3\"\n",
    "    elif num_veh >= 4: \n",
    "        return \"4+\"\n",
    "  \n",
    "#apply function   \n",
    "df['number_of_vehicles']= df['number_of_vehicles'].apply(vehicles)"
   ]
  },
  {
   "cell_type": "code",
   "execution_count": 68,
   "id": "42ade02a-868f-4179-bc72-ec15ed51c852",
   "metadata": {},
   "outputs": [
    {
     "data": {
      "text/plain": [
       "vehicle_type\n",
       "Car              88.984647\n",
       "Goods Vehicle     5.593663\n",
       "Motorcycle        5.118020\n",
       "Bus               0.165023\n",
       "Other Vehicle     0.138648\n",
       "Name: count, dtype: float64"
      ]
     },
     "execution_count": 68,
     "metadata": {},
     "output_type": "execute_result"
    }
   ],
   "source": [
    "df['vehicle_type'].value_counts()/df.shape[0]*100"
   ]
  },
  {
   "cell_type": "code",
   "execution_count": 65,
   "id": "6be783a1-38ac-4cad-a95a-d2ef7f71d146",
   "metadata": {},
   "outputs": [],
   "source": [
    "df['vehicle_type'] = df['vehicle_type'].replace(to_replace=\"Motorcycle over 500cc\", \n",
    "                                                        value=\"Motorcycle\")\n",
    "df['vehicle_type'] = df['vehicle_type'].replace(to_replace=\n",
    "                                                        \"Motorcycle over 125cc and up to 500cc\",\n",
    "                                                        value=\"Motorcycle\")\n",
    "df['vehicle_type'] = df['vehicle_type'].replace(to_replace=\"Motorcycle 125cc and under\", \n",
    "                                                value=\"Motorcycle\")\n",
    "df['vehicle_type'] = df['vehicle_type'].replace(to_replace=\"Motorcycle 50cc and under\", \n",
    "                                                        value=\"Motorcycle\")\n",
    "df['vehicle_type'] = df['vehicle_type'].replace(to_replace=\"Electric motorcycle\", \n",
    "                                                        value=\"Motorcycle\")\n",
    "df['vehicle_type'] = df['vehicle_type'].replace(to_replace=\"Motorcycle - unknown cc\", \n",
    "                                                        value=\"Motorcycle\")\n",
    "\n",
    "\n",
    "#Goods_vehicle\n",
    "df['vehicle_type'] = df['vehicle_type'].replace(to_replace=\n",
    "                                                        \"Van / Goods 3.5 tonnes mgw or under\", \n",
    "                                                        value=\"Goods Vehicle\")\n",
    "df['vehicle_type'] = df['vehicle_type'].replace(to_replace=\"Goods over 3.5t. and under 7.5t\", \n",
    "                                                        value=\"Goods Vehicle\")\n",
    "df['vehicle_type'] = df['vehicle_type'].replace(to_replace=\"Goods vehicle - unknown weight\", \n",
    "                                                        value=\"Goods Vehicle\")\n",
    "df['vehicle_type'] = df['vehicle_type'].replace(to_replace=\"Goods 7.5 tonnes mgw and over\", \n",
    "                                                        value=\"Goods Vehicle\")\n",
    "\n",
    "#car\n",
    "df['vehicle_type'] = df['vehicle_type'].replace(to_replace=\"Taxi/Private hire car\", \n",
    "                                                        value=\"Car\")\n",
    "\n",
    "\n",
    "#bus\n",
    "df['vehicle_type'] = df['vehicle_type'].replace(to_replace=\"Minibus (8 - 16 passenger seats)\", \n",
    "                                                        value=\"Bus\")\n",
    "df['vehicle_type'] = df['vehicle_type'].replace(to_replace=\n",
    "                                                        \"Bus or coach (17 or more pass seats)\", \n",
    "                                                        value=\"Bus\")\n",
    "\n",
    "#other vehicle\n",
    "df['vehicle_type'] = df['vehicle_type'].replace(to_replace=\"Agricultural vehicle\", \n",
    "                                                        value=\"Other Vehicle\")\n",
    "df['vehicle_type'] = df['vehicle_type'].replace(to_replace=\"Other vehicle\", \n",
    "                                                        value=\"Other Vehicle\")"
   ]
  },
  {
   "cell_type": "code",
   "execution_count": 66,
   "id": "751e04a2-7109-4558-93f6-b1bb69a1e0a0",
   "metadata": {},
   "outputs": [
    {
     "data": {
      "text/plain": [
       "vehicle_type\n",
       "Car              88.984647\n",
       "Goods Vehicle     5.593663\n",
       "Motorcycle        5.118020\n",
       "Bus               0.165023\n",
       "Other Vehicle     0.138648\n",
       "Name: count, dtype: float64"
      ]
     },
     "execution_count": 66,
     "metadata": {},
     "output_type": "execute_result"
    }
   ],
   "source": [
    "df['vehicle_type'].value_counts()/df.shape[0]*100"
   ]
  },
  {
   "cell_type": "code",
   "execution_count": 73,
   "id": "ce3e99cc-d23a-4127-b986-6a4ed4b25257",
   "metadata": {},
   "outputs": [
    {
     "data": {
      "text/plain": [
       "age_band_of_driver\n",
       "26 - 35    22.598662\n",
       "36 - 45    20.728345\n",
       "46 - 55    17.551213\n",
       "21 - 25    12.208827\n",
       "56 - 65    10.373796\n",
       "16 - 20     7.145696\n",
       "66 - 75     5.624850\n",
       "Over 75     3.757028\n",
       "11 - 15     0.011049\n",
       "6 - 10      0.000356\n",
       "0 - 5       0.000178\n",
       "Name: count, dtype: float64"
      ]
     },
     "execution_count": 73,
     "metadata": {},
     "output_type": "execute_result"
    }
   ],
   "source": [
    "df6['age_band_of_driver'].value_counts()/df.shape[0]*100"
   ]
  },
  {
   "cell_type": "code",
   "execution_count": 71,
   "id": "653afca8-ebe9-49c0-805f-f2bfbac90820",
   "metadata": {},
   "outputs": [],
   "source": [
    "df['age_band_of_driver']=df['age_band_of_driver'].replace(\"Over 75\",\"75-100\")"
   ]
  },
  {
   "cell_type": "code",
   "execution_count": 123,
   "id": "a4a21fd6-0d9b-48dc-aaaa-18cb4711f361",
   "metadata": {},
   "outputs": [],
   "source": [
    "age1 = [\"0 - 5\", \"6 - 10\", \"11 - 15\"]\n",
    "age2 = [\"16 - 20\",\"21 - 25\"]\n",
    "age3 = [\"26 - 35\",\"36 - 45\"]\n",
    "age4 = [\"46 - 55\", \"56 - 65\"]\n",
    "age5 = [\"66 - 75\", \"75-100\"]"
   ]
  },
  {
   "cell_type": "code",
   "execution_count": 74,
   "id": "5a9f7b94-ca88-4f7e-9e2d-0f8dade5340e",
   "metadata": {},
   "outputs": [],
   "source": [
    "age_mapping = {\n",
    "    '26 - 35': '26-45',\n",
    "    '36 - 45': '26-45',\n",
    "    '46 - 55': '46-65',\n",
    "    '21 - 25': '16-25',\n",
    "    '56 - 65': '46-65',\n",
    "    '16 - 20': '16-25',\n",
    "    '66 - 75': 'Over 65',\n",
    "    'Over 75': 'Over 65',\n",
    "    '11 - 15': 'Under 16',\n",
    "    '6 - 10': 'Under 16',\n",
    "    '0 - 5': 'Under 16'\n",
    "}\n",
    "\n",
    "# Use the map function to replace values\n",
    "df['age_band_of_driver'] = df['age_band_of_driver'].map(age_mapping)"
   ]
  },
  {
   "cell_type": "code",
   "execution_count": 75,
   "id": "87d6e8df-c518-4f95-a9f3-05d52c2223e2",
   "metadata": {},
   "outputs": [
    {
     "name": "stdout",
     "output_type": "stream",
     "text": [
      "Distinct responses for age_band_of_driver:\n",
      " {'Over 65', '26-45', nan, '46-65', 'Under 16', '16-25'}\n"
     ]
    }
   ],
   "source": [
    "print(\"Distinct responses for age_band_of_driver:\\n\", set(df['age_band_of_driver']))"
   ]
  },
  {
   "cell_type": "code",
   "execution_count": 77,
   "id": "066737c1-0c2f-4f54-be87-a7555eefb04a",
   "metadata": {},
   "outputs": [],
   "source": [
    "def enginecap(eng_cc):\n",
    "    if eng_cc <=1500:\n",
    "        return \"small engine cc\"\n",
    "    if eng_cc >1500 and eng_cc <=2000:\n",
    "        return \"medium engine cc\"\n",
    "    if eng_cc >2000:\n",
    "        return \"large engine cc\"\n",
    "\n",
    "\n",
    "df['engine_capacity_cc_size'] = df['engine_capacity_cc'].apply(enginecap)"
   ]
  },
  {
   "cell_type": "code",
   "execution_count": 78,
   "id": "94d4bbc5-9b28-4f8f-bad5-1a7cf47c777c",
   "metadata": {},
   "outputs": [
    {
     "data": {
      "text/plain": [
       "engine_capacity_cc_size\n",
       "medium engine cc    259881\n",
       "small engine cc     231031\n",
       "large engine cc      70223\n",
       "Name: count, dtype: int64"
      ]
     },
     "execution_count": 78,
     "metadata": {},
     "output_type": "execute_result"
    }
   ],
   "source": [
    "df.engine_capacity_cc_size.value_counts()"
   ]
  },
  {
   "cell_type": "code",
   "execution_count": 79,
   "id": "ee4856e9-e059-45c6-97ad-d7dfcdb33948",
   "metadata": {},
   "outputs": [],
   "source": [
    "df['date'] = pd.to_datetime(df['date'])"
   ]
  },
  {
   "cell_type": "code",
   "execution_count": 80,
   "id": "6fd4ff1c-4cbb-49e2-b3b2-8cdfac244ca2",
   "metadata": {},
   "outputs": [],
   "source": [
    "import time"
   ]
  },
  {
   "cell_type": "code",
   "execution_count": 81,
   "id": "fd09368f-d7a7-44a4-be59-604208632aa6",
   "metadata": {},
   "outputs": [],
   "source": [
    "df['month'] = df ['date'].apply(lambda time: time.month)"
   ]
  },
  {
   "cell_type": "code",
   "execution_count": 82,
   "id": "831c88cf-0ccc-4172-a4ef-7e94b175a31f",
   "metadata": {},
   "outputs": [],
   "source": [
    "df['weekend']= np.where(df['day_of_week'].isin(['Friday', 'Saturday', 'Sunday']), 1, 0)"
   ]
  },
  {
   "cell_type": "code",
   "execution_count": 83,
   "id": "c4677d88-a461-4186-a9b1-870371f7ab1b",
   "metadata": {},
   "outputs": [],
   "source": [
    "timeofdaygroups = {1: \"Morning Rush (6-10)\",\n",
    "                   2: \"Day (10-12)\",\n",
    "                   3: \"Lunch Rush (12-14)\",\n",
    "                   4: \"Afternoon (14-16)\",\n",
    "                   5: \"After Work Rush (16-18)\",\n",
    "                   6: \"Evening (18-22)\",\n",
    "                   7: \"Night (22-6)\"}"
   ]
  },
  {
   "cell_type": "code",
   "execution_count": 84,
   "id": "12ff9cde-0354-494f-b3e4-755dd3f67478",
   "metadata": {},
   "outputs": [],
   "source": [
    "#pull time data and create hour column\n",
    "df['hour'] = df['time'].str[0:2]\n",
    " \n",
    "#convert to numeric    \n",
    "df['hour'] =  pd.to_numeric(df['hour'])\n",
    "\n",
    "#convert to integer\n",
    "df['hour'] = df['hour'].astype('int')"
   ]
  },
  {
   "cell_type": "code",
   "execution_count": 85,
   "id": "4e2ef6f6-412d-4255-8d5a-d90200d0bfcb",
   "metadata": {},
   "outputs": [],
   "source": [
    "def daygroup(hour):\n",
    "    if hour >= 6 and hour < 10:\n",
    "        return \"1\"\n",
    "    elif hour >= 10 and hour < 12:\n",
    "        return \"2\"\n",
    "    elif hour >= 12 and hour < 14:\n",
    "        return \"3\"\n",
    "    elif hour >= 14 and hour < 16:\n",
    "        return \"4\"\n",
    "    elif hour >= 16 and hour < 18:\n",
    "        return \"5\"\n",
    "    elif hour >= 18 and hour < 22:\n",
    "        return \"6\"\n",
    "    else:\n",
    "        return \"7\""
   ]
  },
  {
   "cell_type": "code",
   "execution_count": 86,
   "id": "ec59fea9-7aaf-43a9-a999-d4de7ffec572",
   "metadata": {},
   "outputs": [],
   "source": [
    "df['time_of_day']= df['hour'].apply(daygroup) "
   ]
  },
  {
   "cell_type": "code",
   "execution_count": 87,
   "id": "2397abd2-e38a-4b65-80a4-ad53a4b69672",
   "metadata": {},
   "outputs": [
    {
     "data": {
      "text/html": [
       "<div>\n",
       "<style scoped>\n",
       "    .dataframe tbody tr th:only-of-type {\n",
       "        vertical-align: middle;\n",
       "    }\n",
       "\n",
       "    .dataframe tbody tr th {\n",
       "        vertical-align: top;\n",
       "    }\n",
       "\n",
       "    .dataframe thead th {\n",
       "        text-align: right;\n",
       "    }\n",
       "</style>\n",
       "<table border=\"1\" class=\"dataframe\">\n",
       "  <thead>\n",
       "    <tr style=\"text-align: right;\">\n",
       "      <th></th>\n",
       "      <th>weekend</th>\n",
       "      <th>day_of_week</th>\n",
       "      <th>time</th>\n",
       "      <th>time_of_day</th>\n",
       "    </tr>\n",
       "  </thead>\n",
       "  <tbody>\n",
       "    <tr>\n",
       "      <th>720270</th>\n",
       "      <td>0</td>\n",
       "      <td>Wednesday</td>\n",
       "      <td>08:45</td>\n",
       "      <td>1</td>\n",
       "    </tr>\n",
       "    <tr>\n",
       "      <th>720271</th>\n",
       "      <td>0</td>\n",
       "      <td>Wednesday</td>\n",
       "      <td>08:45</td>\n",
       "      <td>1</td>\n",
       "    </tr>\n",
       "    <tr>\n",
       "      <th>720272</th>\n",
       "      <td>0</td>\n",
       "      <td>Tuesday</td>\n",
       "      <td>18:12</td>\n",
       "      <td>6</td>\n",
       "    </tr>\n",
       "    <tr>\n",
       "      <th>720273</th>\n",
       "      <td>1</td>\n",
       "      <td>Sunday</td>\n",
       "      <td>11:00</td>\n",
       "      <td>2</td>\n",
       "    </tr>\n",
       "    <tr>\n",
       "      <th>720274</th>\n",
       "      <td>1</td>\n",
       "      <td>Sunday</td>\n",
       "      <td>11:00</td>\n",
       "      <td>2</td>\n",
       "    </tr>\n",
       "    <tr>\n",
       "      <th>720275</th>\n",
       "      <td>0</td>\n",
       "      <td>Monday</td>\n",
       "      <td>16:32</td>\n",
       "      <td>5</td>\n",
       "    </tr>\n",
       "    <tr>\n",
       "      <th>720276</th>\n",
       "      <td>0</td>\n",
       "      <td>Monday</td>\n",
       "      <td>16:32</td>\n",
       "      <td>5</td>\n",
       "    </tr>\n",
       "    <tr>\n",
       "      <th>720277</th>\n",
       "      <td>1</td>\n",
       "      <td>Friday</td>\n",
       "      <td>06:45</td>\n",
       "      <td>1</td>\n",
       "    </tr>\n",
       "    <tr>\n",
       "      <th>720278</th>\n",
       "      <td>0</td>\n",
       "      <td>Tuesday</td>\n",
       "      <td>16:45</td>\n",
       "      <td>5</td>\n",
       "    </tr>\n",
       "    <tr>\n",
       "      <th>720279</th>\n",
       "      <td>0</td>\n",
       "      <td>Tuesday</td>\n",
       "      <td>16:45</td>\n",
       "      <td>5</td>\n",
       "    </tr>\n",
       "  </tbody>\n",
       "</table>\n",
       "</div>"
      ],
      "text/plain": [
       "        weekend day_of_week   time time_of_day\n",
       "720270        0   Wednesday  08:45           1\n",
       "720271        0   Wednesday  08:45           1\n",
       "720272        0     Tuesday  18:12           6\n",
       "720273        1      Sunday  11:00           2\n",
       "720274        1      Sunday  11:00           2\n",
       "720275        0      Monday  16:32           5\n",
       "720276        0      Monday  16:32           5\n",
       "720277        1      Friday  06:45           1\n",
       "720278        0     Tuesday  16:45           5\n",
       "720279        0     Tuesday  16:45           5"
      ]
     },
     "execution_count": 87,
     "metadata": {},
     "output_type": "execute_result"
    }
   ],
   "source": [
    "df[['weekend','day_of_week','time', 'time_of_day']].tail(10)"
   ]
  },
  {
   "cell_type": "code",
   "execution_count": null,
   "id": "5a358363-98a4-4592-866f-a951b02dc0fc",
   "metadata": {},
   "outputs": [],
   "source": []
  },
  {
   "cell_type": "code",
   "execution_count": 88,
   "id": "80bebcb3-230d-40b1-bac2-f7d78a1af872",
   "metadata": {},
   "outputs": [],
   "source": [
    "def getSeason(month):\n",
    "    if (month == 12 or month == 1 or month == 2):\n",
    "       return \"winter\"\n",
    "    elif(month == 3 or month == 4 or month == 5):\n",
    "       return \"spring\"\n",
    "    elif(month == 6 or month== 7 or month == 8):\n",
    "       return \"summer\"\n",
    "    else:\n",
    "       return \"fall\"\n",
    "\n",
    "df['season'] = df['month'].apply(getSeason)"
   ]
  },
  {
   "cell_type": "code",
   "execution_count": 89,
   "id": "31ab0a93-f564-4429-a33d-8427498e653a",
   "metadata": {},
   "outputs": [
    {
     "data": {
      "text/plain": [
       "season\n",
       "fall      27.065858\n",
       "summer    25.502241\n",
       "spring    24.624912\n",
       "winter    22.806989\n",
       "Name: count, dtype: float64"
      ]
     },
     "execution_count": 89,
     "metadata": {},
     "output_type": "execute_result"
    }
   ],
   "source": [
    "# number_of_vehicles\n",
    "df['season'].value_counts()/df.shape[0]*100"
   ]
  },
  {
   "cell_type": "code",
   "execution_count": 93,
   "id": "05fa7149-a843-41ec-b634-a3f536acf150",
   "metadata": {},
   "outputs": [],
   "source": [
    "df.to_csv(r'E:\\datasets\\uk_accidents_final\\uk_accidents_final.csv')"
   ]
  }
 ],
 "metadata": {
  "kernelspec": {
   "display_name": "Python 3 (ipykernel)",
   "language": "python",
   "name": "python3"
  },
  "language_info": {
   "codemirror_mode": {
    "name": "ipython",
    "version": 3
   },
   "file_extension": ".py",
   "mimetype": "text/x-python",
   "name": "python",
   "nbconvert_exporter": "python",
   "pygments_lexer": "ipython3",
   "version": "3.12.1"
  }
 },
 "nbformat": 4,
 "nbformat_minor": 5
}
